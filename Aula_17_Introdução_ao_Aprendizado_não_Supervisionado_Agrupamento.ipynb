{
  "cells": [
    {
      "cell_type": "markdown",
      "metadata": {
        "id": "gIc02u0Ps0Kb"
      },
      "source": [
        "# Aula 17 - Introdução ao Aprendizado Não Supervisionado: Agrupamento\n",
        "\n",
        "Nesta aula vamos estudar o uso de algoritmos de **Aprendizado de Máquina Não Supervisionado**. Focaremos nos algoritmos utilizados para **agrupamento**, que é a tarefa de predizer grupos de saída (dados categóricos) para conjuntos de dados de entrada (numéricos ou transformados em numéricos) sem saber, a princípio, a saída correta.\n",
        "\n",
        "Existem muitos algoritmos para se realizar essa tarefa, entre eles:\n",
        "- K-means\n",
        "- DBSCAN\n",
        "- Cluster Hierarquico\n",
        "- Mistura Gaussiana\n",
        "- Redes Neurais (Self Organizing Map - SOM)\n",
        "\n",
        "Cada uma dessas técnicas tem uma forte base matemática e conceitual. Os algoritmos foram propostos ao longo de diversas décadas e possuem diferentes cenários de aplicações. Não teremos tempo de ver cada um deles a fundo, nem mesmo todos eles. Iremos nos focar nos procedimentos básicos para se utilizar esses algoritmos.\n",
        "\n",
        "Esses algoritmos podem ser aplicados para diferentes problemas que envolvam segmentação/agrupamento de dados.\n",
        "\n",
        "Em geral, o desempenho deles é menor do que aqueles obtidos com Classificadores (técnica supervisionada). Entretanto, as técnicas de agrupamento apresentam a vantagem de não precisarem de dados rotulados (label)."
      ]
    },
    {
      "cell_type": "markdown",
      "metadata": {
        "id": "491sBbIbs0Kf"
      },
      "source": [
        "### Bibliotecas utilizadas"
      ]
    },
    {
      "cell_type": "code",
      "execution_count": null,
      "metadata": {
        "id": "swuOhuu7s0Kg"
      },
      "outputs": [],
      "source": [
        "import pandas as pd\n",
        "\n",
        "# Plot dos gráficos\n",
        "import matplotlib.pyplot as plt\n",
        "import matplotlib\n",
        "from matplotlib import colors\n",
        "import seaborn as sns\n",
        "import scipy.cluster.hierarchy as sch   # Dendograma\n",
        "\n",
        "\n",
        "# Algoritmos de Agrupamento\n",
        "from sklearn.cluster import KMeans, DBSCAN, AgglomerativeClustering\n",
        "from sklearn.mixture import GaussianMixture\n",
        "\n",
        "# Avaliacao de desemepnho\n",
        "from sklearn.metrics import adjusted_rand_score, silhouette_score"
      ]
    },
    {
      "cell_type": "markdown",
      "metadata": {
        "id": "uduJs6uIs0Kg"
      },
      "source": [
        "## Exemplo 1\n",
        "\n",
        "    \n",
        "### Moons\n",
        "\n",
        "Reinaldo Sanchez-Arias, Assistant Professor of Data Science, Florida Polytechnic University, https://raw.githubusercontent.com/reisanar/datasets/master/moons.csv"
      ]
    },
    {
      "cell_type": "markdown",
      "metadata": {
        "id": "XJeIknUqs0Kh"
      },
      "source": [
        "### Carregando os dados"
      ]
    },
    {
      "cell_type": "code",
      "execution_count": null,
      "metadata": {
        "id": "JlxtyUngs0Kh"
      },
      "outputs": [],
      "source": [
        "url_bd = 'https://raw.githubusercontent.com/reisanar/datasets/master/moons.csv'\n",
        "moons = pd.read_csv(url_bd)"
      ]
    },
    {
      "cell_type": "code",
      "execution_count": null,
      "metadata": {
        "id": "o4zhlSnYs0Kh"
      },
      "outputs": [],
      "source": [
        "moons.head()"
      ]
    },
    {
      "cell_type": "code",
      "execution_count": null,
      "metadata": {
        "id": "1A1qXoCNs0Kh"
      },
      "outputs": [],
      "source": [
        "# Gráfico de DISPERSÃO\n",
        "plt.scatter(x=moons['X'], y=moons['Y'])"
      ]
    },
    {
      "cell_type": "markdown",
      "metadata": {
        "id": "cYTgG4Ods0Kh"
      },
      "source": [
        "### Criação do Modelos de Agrupamento"
      ]
    },
    {
      "cell_type": "code",
      "execution_count": null,
      "metadata": {
        "id": "srAj4G9Ms0Kh"
      },
      "outputs": [],
      "source": [
        "# Modelos de agrupamento\n",
        "rs=42\n",
        "km = KMeans(n_clusters=4, random_state=rs)            # KNN k=4\n",
        "gm = GaussianMixture(n_components=4, random_state=rs) # Gaussian Mixture k=4\n",
        "db = DBSCAN(eps=0.4)"
      ]
    },
    {
      "cell_type": "code",
      "execution_count": null,
      "metadata": {
        "id": "CKbscHhYs0Kh"
      },
      "outputs": [],
      "source": [
        "# aplica o algoritmo e armazena o cluster de cada dado\n",
        "km_c = km.fit_predict(moons)  #\n",
        "gm_c = gm.fit_predict(moons)  # Permite mistura entre grupos (bem parecido com k-means)\n",
        "db_c = db.fit_predict(moons)  # Permite formatos não globulares"
      ]
    },
    {
      "cell_type": "code",
      "execution_count": null,
      "metadata": {
        "id": "ZqkSJhpWs0Kh"
      },
      "outputs": [],
      "source": [
        "km_c"
      ]
    },
    {
      "cell_type": "code",
      "execution_count": null,
      "metadata": {
        "id": "-F8wW7N3s0Ki"
      },
      "outputs": [],
      "source": [
        "db_c"
      ]
    },
    {
      "cell_type": "code",
      "execution_count": null,
      "metadata": {
        "id": "77MQUkLXs0Ki"
      },
      "outputs": [],
      "source": [
        "fig = plt.figure(figsize=(12, 8), dpi=80)\n",
        "plt.subplot(2,2,1)\n",
        "plt.scatter(x=moons['X'], y=moons['Y'])\n",
        "plt.title('Original')\n",
        "plt.subplot(2,2,2)\n",
        "plt.scatter(x=moons['X'], y=moons['Y'], c=km_c)\n",
        "plt.title('KMeans')\n",
        "plt.subplot(2,2,3)\n",
        "plt.scatter(x=moons['X'], y=moons['Y'], c=gm_c)\n",
        "plt.title('GaussianMixture')\n",
        "plt.subplot(2,2,4)\n",
        "plt.scatter(x=moons['X'], y=moons['Y'], c=db_c)\n",
        "plt.title('DBSCAN')\n",
        "plt.subplots_adjust(hspace = 0.35)"
      ]
    },
    {
      "cell_type": "markdown",
      "metadata": {
        "id": "ewBV7VO0s0Ki"
      },
      "source": [
        "--------------------------\n",
        "\n",
        "## Exemplo 2 - Grupo de Consumidores\n",
        "\n",
        "Esse conjunto de dados ilustra alguns dados dos consumidores de um shopping. **Será que podemos encontrar grupos de consumidores com os dados acima?**"
      ]
    },
    {
      "cell_type": "code",
      "execution_count": null,
      "metadata": {
        "id": "vFrLqYv_s0Ki"
      },
      "outputs": [],
      "source": [
        "dados = pd.read_csv(\"mall.csv\", sep=',')"
      ]
    },
    {
      "cell_type": "code",
      "execution_count": null,
      "metadata": {
        "id": "NalHdDlSs0Ki"
      },
      "outputs": [],
      "source": [
        "dados.head()"
      ]
    },
    {
      "cell_type": "markdown",
      "metadata": {
        "id": "0jlg4pMcs0Ki"
      },
      "source": [
        "### Analisando os dados\n",
        "A seguir vamos analisar os tipos de dados que temos."
      ]
    },
    {
      "cell_type": "code",
      "execution_count": null,
      "metadata": {
        "id": "4v_9xjLzs0Ki"
      },
      "outputs": [],
      "source": [
        "dados.info()"
      ]
    },
    {
      "cell_type": "code",
      "execution_count": null,
      "metadata": {
        "id": "jSRNXrhis0Ki"
      },
      "outputs": [],
      "source": [
        "dados.shape"
      ]
    },
    {
      "cell_type": "code",
      "execution_count": null,
      "metadata": {
        "id": "WMR0XgR0s0Ki"
      },
      "outputs": [],
      "source": [
        "dados.isnull().sum() # Ver se tem dados nulos (células vazias)"
      ]
    },
    {
      "cell_type": "code",
      "execution_count": null,
      "metadata": {
        "id": "jkLJ8uNcs0Ki"
      },
      "outputs": [],
      "source": [
        "dados.describe()"
      ]
    },
    {
      "cell_type": "code",
      "execution_count": null,
      "metadata": {
        "id": "HH3-BYROs0Kj"
      },
      "outputs": [],
      "source": [
        "dados.hist(figsize=(12,12))"
      ]
    },
    {
      "cell_type": "code",
      "execution_count": null,
      "metadata": {
        "id": "odXV-_HAs0Kj"
      },
      "outputs": [],
      "source": [
        "plt.figure(figsize=(6,4))\n",
        "sns.heatmap(dados[['Age','Annual Income (k$)','Spending Score (1-100)']].corr(method = 'pearson'),\n",
        "            annot=True, fmt=\".1f\");"
      ]
    },
    {
      "cell_type": "code",
      "execution_count": null,
      "metadata": {
        "id": "cmKpIulls0Kj"
      },
      "outputs": [],
      "source": [
        "dados['Gender'].value_counts()"
      ]
    },
    {
      "cell_type": "markdown",
      "metadata": {
        "id": "-WrNQLjus0Kj"
      },
      "source": [
        "Boa proporção entre os generos que temos disponíveis em nossos dados.\n",
        "\n",
        "Vamos fazer um gráfico completo com todos os dados para checarmos possíveis agrupamentos que podem ser realizados."
      ]
    },
    {
      "cell_type": "code",
      "execution_count": null,
      "metadata": {
        "id": "sAsvt1OEs0Kj"
      },
      "outputs": [],
      "source": [
        "sns.pairplot(dados)\n",
        "plt.show()"
      ]
    },
    {
      "cell_type": "markdown",
      "metadata": {
        "id": "59pzoegks0Kj"
      },
      "source": [
        "Aparentemente o Annual Income e o Spending Score permitem alguns agrupamentos dos nossos dados.\n",
        "\n",
        "Podemos trabalhar com eles."
      ]
    },
    {
      "cell_type": "markdown",
      "metadata": {
        "id": "WPlyuHCXs0Kj"
      },
      "source": [
        "### Criando os agrupamentos\n",
        "Vamos criar agrupamentos com diferentes metodologias:\n",
        "\n",
        "### 1 - K-Means"
      ]
    },
    {
      "cell_type": "code",
      "execution_count": null,
      "metadata": {
        "id": "nVOv5prMs0Kj"
      },
      "outputs": [],
      "source": [
        "# Definindo o modelo de clusterizacao. K-MEANS com 6 clusters\n",
        "kmeans = KMeans(n_clusters=6,random_state=0)\n",
        "\n",
        "#Implementando o K-Means nos dados:\n",
        "kmeans.fit(dados[['Annual Income (k$)','Spending Score (1-100)']])\n",
        "\n",
        "#Salvando os centroides de cada cluster\n",
        "centroides = kmeans.cluster_centers_\n",
        "\n",
        "#Salvando os labels dos clusters para cada exemplo\n",
        "kmeans_labels = kmeans.predict(dados[['Annual Income (k$)','Spending Score (1-100)']])"
      ]
    },
    {
      "cell_type": "markdown",
      "metadata": {
        "id": "YWY4JZQOs0Kj"
      },
      "source": [
        "Vamos analisar a nossa previsao e os centroides:"
      ]
    },
    {
      "cell_type": "code",
      "execution_count": null,
      "metadata": {
        "id": "df7jx50xs0Kj"
      },
      "outputs": [],
      "source": [
        "pd.Series(kmeans_labels).value_counts()"
      ]
    },
    {
      "cell_type": "code",
      "execution_count": null,
      "metadata": {
        "id": "lJh0gl_Ys0Kj"
      },
      "outputs": [],
      "source": [
        "centroides"
      ]
    },
    {
      "cell_type": "code",
      "execution_count": null,
      "metadata": {
        "id": "PvPGRFKws0Kj"
      },
      "outputs": [],
      "source": [
        "# plotando os dados identificando com os seus clusters\n",
        "plt.scatter(dados[['Annual Income (k$)']],dados[['Spending Score (1-100)']], c=kmeans_labels, alpha=0.5, cmap='rainbow')\n",
        "plt.xlabel('Salario Anual')\n",
        "plt.ylabel('Pontuação de gastos')\n",
        "# plotando os centroides\n",
        "plt.scatter(centroides[:, 0], centroides[:, 1], c='black', marker='X', s=200, alpha=0.5)\n",
        "plt.rcParams['figure.figsize'] = (15, 10)\n",
        "plt.show()"
      ]
    },
    {
      "cell_type": "markdown",
      "metadata": {
        "id": "avoBGUVUs0Kj"
      },
      "source": [
        "Escolhendo a quantidade de grupos usando o método do \"cotovelo\":"
      ]
    },
    {
      "cell_type": "code",
      "execution_count": null,
      "metadata": {
        "id": "rRuP2FqJs0Kk"
      },
      "outputs": [],
      "source": [
        "# Lista com a quantidade de clusters que iremos testar\n",
        "k = list(range(1, 10))\n",
        "print(k)"
      ]
    },
    {
      "cell_type": "code",
      "execution_count": null,
      "metadata": {
        "id": "V9G2rTuus0Kk"
      },
      "outputs": [],
      "source": [
        "# Armazena o SSE (soma dos erros quadraticos) para cada quantidade de k\n",
        "sse = []\n",
        "\n",
        "# Roda o K-means para cada k fornecido\n",
        "for i in k:\n",
        "    kmeans = KMeans(n_clusters=i, random_state=0)\n",
        "    kmeans.fit(dados[['Annual Income (k$)','Spending Score (1-100)']])\n",
        "    sse.append(kmeans.inertia_)\n",
        "\n",
        "plt.rcParams['figure.figsize'] = (10, 5)\n",
        "# Plota o gráfico com a soma dos erros quadraticos\n",
        "plt.plot(k, sse, '-o')\n",
        "plt.xlabel(r'Número de clusters')\n",
        "plt.ylabel('Inércia')\n",
        "plt.show()"
      ]
    },
    {
      "cell_type": "markdown",
      "metadata": {
        "id": "dqB_gqoas0Kk"
      },
      "source": [
        "Podemos notar que após 3 ou 5 clusters a soma do erro quadratico tem uma redução na forma com a qual a função está decrescendo. Assim podemos adotar 5 clusters. Checando os resultados para 5 clusters:"
      ]
    },
    {
      "cell_type": "code",
      "execution_count": null,
      "metadata": {
        "id": "1Y0aRgRWs0Kk"
      },
      "outputs": [],
      "source": [
        "# Definindo o modelo de clusterizacao. K-MEANS com 6 clusters\n",
        "kmeans = KMeans(n_clusters=5,random_state=0)\n",
        "\n",
        "#Implementando o K-Means nos dados:\n",
        "kmeans.fit(dados[['Annual Income (k$)','Spending Score (1-100)']])\n",
        "\n",
        "#Salvando os centroides de cada cluster\n",
        "centroides = kmeans.cluster_centers_\n",
        "\n",
        "#Salvando os labels dos clusters para cada exemplo\n",
        "kmeans_labels = kmeans.predict(dados[['Annual Income (k$)','Spending Score (1-100)']])"
      ]
    },
    {
      "cell_type": "code",
      "execution_count": null,
      "metadata": {
        "id": "VPp6W3h9s0Kn"
      },
      "outputs": [],
      "source": [
        "# plotando os dados identificando com os seus clusters\n",
        "plt.scatter(dados[['Annual Income (k$)']],dados[['Spending Score (1-100)']], c=kmeans_labels, alpha=0.5, cmap='rainbow')\n",
        "plt.xlabel('Salario Anual')\n",
        "plt.ylabel('Pontuação de gastos')\n",
        "# plotando os centroides\n",
        "plt.scatter(centroides[:, 0], centroides[:, 1], c='black', marker='X', s=200, alpha=0.5)\n",
        "plt.rcParams['figure.figsize'] = (15, 10)\n",
        "plt.show()"
      ]
    },
    {
      "cell_type": "code",
      "execution_count": null,
      "metadata": {
        "id": "TUdpc313s0Ko"
      },
      "outputs": [],
      "source": [
        "dados['grupos kmeas'] = kmeans_labels"
      ]
    },
    {
      "cell_type": "code",
      "execution_count": null,
      "metadata": {
        "id": "GgPaAU7vs0Ko"
      },
      "outputs": [],
      "source": [
        "dados_2 = dados[dados['grupos kmeas'] == 2]"
      ]
    },
    {
      "cell_type": "code",
      "execution_count": null,
      "metadata": {
        "id": "btH_eT8Ps0Ko"
      },
      "outputs": [],
      "source": [
        "plt.figure(figsize=(6,4))\n",
        "sns.heatmap(dados_2.groupby('grupos kmeas').corr(method = 'pearson'),\n",
        "            annot=True, fmt=\".1f\");"
      ]
    },
    {
      "cell_type": "markdown",
      "metadata": {
        "id": "HHGmFx1js0Ko"
      },
      "source": [
        "### 2 - DBSCAN"
      ]
    },
    {
      "cell_type": "code",
      "execution_count": null,
      "metadata": {
        "id": "AgojTR1os0Ko"
      },
      "outputs": [],
      "source": [
        "#Criando o modelo:\n",
        "dbscan = DBSCAN(eps=10, min_samples=8)\n",
        "#Ajustando aos dados\n",
        "dbscan.fit(dados[['Annual Income (k$)','Spending Score (1-100)']])\n",
        "\n",
        "dbscan_labels = dbscan.labels_\n",
        "dbscan_labels"
      ]
    },
    {
      "cell_type": "markdown",
      "metadata": {
        "id": "luL0nnQcs0Ko"
      },
      "source": [
        "Labels com -1 foram classificados como outliers"
      ]
    },
    {
      "cell_type": "code",
      "execution_count": null,
      "metadata": {
        "id": "0D6ENmhxs0Ko"
      },
      "outputs": [],
      "source": [
        "#Plotando o grafico:\n",
        "plt.scatter(dados[['Annual Income (k$)']],dados[['Spending Score (1-100)']], c=dbscan_labels, alpha=0.5, cmap='rainbow')\n",
        "plt.xlabel('Annual Income (k$)')\n",
        "plt.ylabel('Spending Score (1-100)')\n",
        "plt.show()"
      ]
    },
    {
      "cell_type": "code",
      "execution_count": null,
      "metadata": {
        "id": "IMPFrduls0Ko"
      },
      "outputs": [],
      "source": [
        "#Plotando o grafico sem os outliers:\n",
        "#mascara para outlier\n",
        "mascara = dbscan_labels>=0\n",
        "\n",
        "#plotando o gráfico\n",
        "plt.scatter(dados[['Annual Income (k$)']][mascara],dados[['Spending Score (1-100)']][mascara], c=dbscan_labels[mascara], alpha=0.5, cmap='rainbow')\n",
        "plt.xlabel('Annual Income (k$)')\n",
        "plt.ylabel('Spending Score (1-100)')\n",
        "plt.show()\n"
      ]
    },
    {
      "cell_type": "markdown",
      "metadata": {
        "id": "rsMR3a1ds0Ko"
      },
      "source": [
        "Checando a quantidade de valores que foram classificados como Outliers:"
      ]
    },
    {
      "cell_type": "code",
      "execution_count": null,
      "metadata": {
        "id": "XGQqitw0s0Ko"
      },
      "outputs": [],
      "source": [
        "list(mascara).count(False)"
      ]
    },
    {
      "cell_type": "markdown",
      "metadata": {
        "id": "R_toVRnEs0Ko"
      },
      "source": [
        "### 3 - Agrupamento Hierárquico"
      ]
    },
    {
      "cell_type": "code",
      "execution_count": null,
      "metadata": {
        "id": "QNLWZDdBs0Ko"
      },
      "outputs": [],
      "source": [
        "# Criando o modelo\n",
        "# linkage = ‘ward’ minimizes the variance of the clusters being merged.\n",
        "model = AgglomerativeClustering(n_clusters=5,linkage='ward')\n",
        "\n",
        "model.fit(dados[['Annual Income (k$)','Spending Score (1-100)']])\n",
        "hierarquico_labels = model.labels_\n",
        "hierarquico_labels"
      ]
    },
    {
      "cell_type": "code",
      "execution_count": null,
      "metadata": {
        "id": "bg0ocMEbs0Kp"
      },
      "outputs": [],
      "source": [
        "# plotando os dados identificando com os seus clusters\n",
        "plt.scatter(dados[['Annual Income (k$)']],dados[['Spending Score (1-100)']], c=hierarquico_labels, alpha=0.5, cmap='rainbow')\n",
        "plt.xlabel('Salario Anual')\n",
        "plt.ylabel('Pontuação de gastos')\n",
        "# plotando os centroides\n",
        "\n",
        "plt.rcParams['figure.figsize'] = (15, 10)\n",
        "plt.show()"
      ]
    },
    {
      "cell_type": "markdown",
      "metadata": {
        "id": "vxgU1jSus0Kp"
      },
      "source": [
        "Visualizando o dendrograma"
      ]
    },
    {
      "cell_type": "code",
      "execution_count": null,
      "metadata": {
        "id": "z6x6XjmYs0Kp"
      },
      "outputs": [],
      "source": [
        "dendrogram = sch.dendrogram(sch.linkage(dados[['Annual Income (k$)','Spending Score (1-100)']], method = 'ward'))\n",
        "plt.title('Dendrogam', fontsize = 20)\n",
        "plt.xlabel('Clientes')\n",
        "plt.ylabel('Distância Euclidiana')\n",
        "plt.show()"
      ]
    },
    {
      "cell_type": "markdown",
      "metadata": {
        "id": "viwn2SSOs0Kp"
      },
      "source": [
        "### 4 - Avaliando o Desempenho dos Algoritmos\n",
        "\n",
        "(a) Usando o **Adjusted Rand Index**"
      ]
    },
    {
      "cell_type": "markdown",
      "metadata": {
        "id": "yfMH6SnMs0Kp"
      },
      "source": [
        "Comparação entre K-Means e Agrupamento Hierarquico:"
      ]
    },
    {
      "cell_type": "code",
      "execution_count": null,
      "metadata": {
        "id": "6B8aGizws0Kp"
      },
      "outputs": [],
      "source": [
        "adjusted_rand_score(kmeans_labels,hierarquico_labels)"
      ]
    },
    {
      "cell_type": "markdown",
      "metadata": {
        "id": "-vcaqHp5s0Kp"
      },
      "source": [
        "Comparação entre K-Means e DBSCAN:"
      ]
    },
    {
      "cell_type": "code",
      "execution_count": null,
      "metadata": {
        "id": "_aPBAZ4gs0Kp"
      },
      "outputs": [],
      "source": [
        "adjusted_rand_score(kmeans_labels,dbscan_labels)"
      ]
    },
    {
      "cell_type": "markdown",
      "metadata": {
        "id": "P6oWygV7s0Kp"
      },
      "source": [
        "Comparação entre Agrupamento Hierarquico e o DBSCAN:"
      ]
    },
    {
      "cell_type": "code",
      "execution_count": null,
      "metadata": {
        "id": "C9EewmC1s0Kp"
      },
      "outputs": [],
      "source": [
        "adjusted_rand_score(hierarquico_labels,dbscan_labels)"
      ]
    },
    {
      "cell_type": "markdown",
      "metadata": {
        "id": "oqYxvW0as0Kq"
      },
      "source": [
        "Percebemos que o KMeans e o Agrupamento hierarquico para esse caso conseguiram resultados mais próximos um do outro do que quando comparados com o DBSCAN"
      ]
    },
    {
      "cell_type": "markdown",
      "metadata": {
        "id": "fAqVEUfcs0Kq"
      },
      "source": [
        "(b) Avaliando a métrica de **Silhouette**"
      ]
    },
    {
      "cell_type": "markdown",
      "metadata": {
        "id": "_l8ZhTfUs0Kq"
      },
      "source": [
        "KMEANS:"
      ]
    },
    {
      "cell_type": "code",
      "execution_count": null,
      "metadata": {
        "id": "z9SzDARAs0Kq"
      },
      "outputs": [],
      "source": [
        "silhouette_score(dados[['Annual Income (k$)','Spending Score (1-100)']],kmeans_labels)"
      ]
    },
    {
      "cell_type": "markdown",
      "metadata": {
        "id": "H43_bk2Qs0Kq"
      },
      "source": [
        "DBSCAN:"
      ]
    },
    {
      "cell_type": "code",
      "execution_count": null,
      "metadata": {
        "id": "acaG7dWVs0Kq"
      },
      "outputs": [],
      "source": [
        "silhouette_score(dados[['Annual Income (k$)','Spending Score (1-100)']],dbscan_labels)"
      ]
    },
    {
      "cell_type": "markdown",
      "metadata": {
        "id": "Wk09rad8s0Kq"
      },
      "source": [
        "Agrupamento Hierarquico:"
      ]
    },
    {
      "cell_type": "code",
      "execution_count": null,
      "metadata": {
        "id": "Fmpcnt_1s0Kq"
      },
      "outputs": [],
      "source": [
        "silhouette_score(dados[['Annual Income (k$)','Spending Score (1-100)']],hierarquico_labels)"
      ]
    },
    {
      "cell_type": "markdown",
      "metadata": {
        "id": "lEKTdXlUs0Kq"
      },
      "source": [
        "---------------------------\n",
        "## Exemplo 3 - Segmentação de Imagens de Câncer de Mama\n",
        "\n",
        "Vamos usar o dataset mini-MIAS disponível em http://peipa.essex.ac.uk/info/mias.html.\n",
        "\n",
        "Este dataset possui 322 imagens de mamografias.\n",
        "\n",
        "A **Segmentação de Imagem** envolve em colorir de uma mesma cor objetos ou partes de interesse. No caso do nosso dataset, iremos usar a segmentação de imagem para reduzir a resolução, aumentando o contraste entre diferentes regiões dos tecidos representados na imagem de mamografia.\n",
        "\n",
        "O dataset é mais detalhado, possuindo inclusive tipos de câncer e anormalidades que ocorrem em cada uma das imagens.\n",
        "\n",
        "Vamos apenas aplicar o K-Means em algumas imagens para observar o resultado:"
      ]
    },
    {
      "cell_type": "code",
      "execution_count": null,
      "metadata": {
        "id": "98Avjo6zs0Kq"
      },
      "outputs": [],
      "source": [
        "# Para processar arquivos e imagens\n",
        "from PIL import Image\n",
        "import glob\n",
        "import numpy as np\n",
        "\n",
        "# Para plotar imagens\n",
        "import matplotlib.pyplot as plt\n",
        "import matplotlib.image as mpimg\n",
        "\n",
        "from sklearn.cluster import KMeans # Agrupamento"
      ]
    },
    {
      "cell_type": "code",
      "execution_count": null,
      "metadata": {
        "id": "ql3hYOuws0Kq"
      },
      "outputs": [],
      "source": [
        "# Carregando as imagens\n",
        "\n",
        "img_G = mpimg.imread('mias/mdb001.pgm') # Tipo G\n",
        "img_D = mpimg.imread('mias/mdb003.pgm') # Tipo D\n",
        "img_F = mpimg.imread('mias/mdb005.pgm') # Tipo F"
      ]
    },
    {
      "cell_type": "code",
      "execution_count": null,
      "metadata": {
        "id": "S8tGhQrNs0Kr"
      },
      "outputs": [],
      "source": [
        "# Plotando as imagens\n",
        "\n",
        "fig, axs = plt.subplots(1, 3, figsize=(10, 3))\n",
        "im1 = axs[0].imshow(img_G, cmap='gray', vmin=0, vmax=255)\n",
        "im2 = axs[1].imshow(img_D, cmap='gray', vmin=0, vmax=255)\n",
        "im3 = axs[2].imshow(img_F, cmap='gray', vmin=0, vmax=255)\n",
        "plt.show()"
      ]
    },
    {
      "cell_type": "code",
      "execution_count": null,
      "metadata": {
        "id": "PGVkOQP7s0Kr"
      },
      "outputs": [],
      "source": [
        "# Essa função usa o Kmeans como um filtro de segmentação de imagem\n",
        "\n",
        "def filtro_kmeans(img, clusters):\n",
        "    vectorized = img.reshape((-1,1))\n",
        "    kmeans = KMeans(n_clusters=clusters, random_state = 0, n_init=5)\n",
        "    kmeans.fit(vectorized)\n",
        "\n",
        "    centers = np.uint8(kmeans.cluster_centers_)\n",
        "    segmented_data = centers[kmeans.labels_.flatten()]\n",
        "\n",
        "    segmented_image = segmented_data.reshape((img.shape))\n",
        "    return(segmented_image)"
      ]
    },
    {
      "cell_type": "code",
      "execution_count": null,
      "metadata": {
        "id": "byi-V8jXs0Kr"
      },
      "outputs": [],
      "source": [
        "clusters = 3\n",
        "\n",
        "img_G_segmentada = filtro_kmeans(img_G, clusters) # Tipo G\n",
        "img_D_segmentada = filtro_kmeans(img_D, clusters) # Tipo D\n",
        "img_F_segmentada = filtro_kmeans(img_F, clusters) # Tipo F"
      ]
    },
    {
      "cell_type": "code",
      "execution_count": null,
      "metadata": {
        "id": "9GOjKOvns0Kr"
      },
      "outputs": [],
      "source": [
        "fig, axs = plt.subplots(1, 3, figsize=(10, 3))\n",
        "im1 = axs[0].imshow(img_G_segmentada, cmap='gray', vmin=0, vmax=255)\n",
        "im2 = axs[1].imshow(img_D_segmentada, cmap='gray', vmin=0, vmax=255)\n",
        "im3 = axs[2].imshow(img_F_segmentada, cmap='gray', vmin=0, vmax=255)\n",
        "plt.show()"
      ]
    },
    {
      "cell_type": "markdown",
      "metadata": {
        "id": "sjGZ-NFNs0Kr"
      },
      "source": [
        "Para mais informações de aplicação de técnicas de Agrupamento na segmentação de imagens, https://experiencor.github.io/segmentation.html"
      ]
    }
  ],
  "metadata": {
    "kernelspec": {
      "display_name": "Python 3",
      "language": "python",
      "name": "python3"
    },
    "language_info": {
      "codemirror_mode": {
        "name": "ipython",
        "version": 3
      },
      "file_extension": ".py",
      "mimetype": "text/x-python",
      "name": "python",
      "nbconvert_exporter": "python",
      "pygments_lexer": "ipython3",
      "version": "3.9.5"
    },
    "colab": {
      "provenance": []
    }
  },
  "nbformat": 4,
  "nbformat_minor": 0
}